{
 "cells": [
  {
   "cell_type": "code",
   "execution_count": null,
   "id": "0df5c25e",
   "metadata": {},
   "outputs": [],
   "source": [
    "import requests\n",
    "from requests import get\n",
    "from bs4 import BeautifulSoup\n",
    "import pandas as pd\n",
    "import numpy as np"
   ]
  },
  {
   "cell_type": "code",
   "execution_count": null,
   "id": "f2658c0d",
   "metadata": {},
   "outputs": [],
   "source": [
    "headers = {\"Accept-Language\": \"en-US, en;q=0.5\"}\n",
    "\n",
    "url = \"https://www.imdb.com/search/title/?groups=top_1000&ref_=adv_prv\"\n",
    "results = requests.get(url, headers=headers)\n",
    "soup = BeautifulSoup(results.text, \"html.parser\")\n",
    "\n",
    "titles = []\n",
    "years = []\n",
    "\n",
    "\n",
    "movie_div = soup.find_all('div', class_='lister-item mode-advanced')\n",
    "for container in movie_div:\n",
    "    name = container.h3.a.text\n",
    "    titles.append(name)\n",
    "    year = container.h3.find('span', class_='lister-item-year').text\n",
    "    years.append(year)\n",
    "    \n",
    "    print(titles)\n",
    "    print(years)\n",
    "    movies=pd.DataFrame({'movie':titles,\n",
    "                    'year':years})"
   ]
  }
 ],
 "metadata": {
  "kernelspec": {
   "display_name": "Python 3 (ipykernel)",
   "language": "python",
   "name": "python3"
  },
  "language_info": {
   "codemirror_mode": {
    "name": "ipython",
    "version": 3
   },
   "file_extension": ".py",
   "mimetype": "text/x-python",
   "name": "python",
   "nbconvert_exporter": "python",
   "pygments_lexer": "ipython3",
   "version": "3.9.7"
  },
  "toc": {
   "base_numbering": 1,
   "nav_menu": {},
   "number_sections": true,
   "sideBar": true,
   "skip_h1_title": false,
   "title_cell": "Table of Contents",
   "title_sidebar": "Contents",
   "toc_cell": false,
   "toc_position": {},
   "toc_section_display": true,
   "toc_window_display": false
  }
 },
 "nbformat": 4,
 "nbformat_minor": 5
}
